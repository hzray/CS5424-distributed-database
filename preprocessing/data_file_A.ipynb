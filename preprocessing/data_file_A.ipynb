{
 "cells": [
  {
   "cell_type": "markdown",
   "metadata": {},
   "source": [
    "For each entity set:\n",
    "    \n",
    "    1. add column names\n",
    "    \n",
    "    2. find columns contain null value\n",
    "    \n",
    "    3. change null as int: -1, text: 'unknown', timestamp: '1970-01-01 00:00:00'"
   ]
  },
  {
   "cell_type": "code",
   "execution_count": 1,
   "metadata": {},
   "outputs": [],
   "source": [
    "import pandas as pd"
   ]
  },
  {
   "cell_type": "code",
   "execution_count": 2,
   "metadata": {},
   "outputs": [],
   "source": [
    "warehouse = pd.read_csv('warehouse.csv', header=None)"
   ]
  },
  {
   "cell_type": "code",
   "execution_count": 3,
   "metadata": {},
   "outputs": [],
   "source": [
    "warehouse.columns = ['w_id', 'w_name', 'w_street_1', 'w_street_2', 'w_city', 'w_state', 'w_zip', 'w_tax', 'w_ytd']"
   ]
  },
  {
   "cell_type": "code",
   "execution_count": 4,
   "metadata": {},
   "outputs": [
    {
     "data": {
      "text/plain": [
       "w_id          False\n",
       "w_name        False\n",
       "w_street_1    False\n",
       "w_street_2    False\n",
       "w_city        False\n",
       "w_state       False\n",
       "w_zip         False\n",
       "w_tax         False\n",
       "w_ytd         False\n",
       "dtype: bool"
      ]
     },
     "execution_count": 4,
     "metadata": {},
     "output_type": "execute_result"
    }
   ],
   "source": [
    "warehouse.isna().any()"
   ]
  },
  {
   "cell_type": "code",
   "execution_count": null,
   "metadata": {},
   "outputs": [],
   "source": []
  },
  {
   "cell_type": "code",
   "execution_count": 5,
   "metadata": {},
   "outputs": [],
   "source": [
    "district = pd.read_csv('district.csv', header=None)"
   ]
  },
  {
   "cell_type": "code",
   "execution_count": 6,
   "metadata": {},
   "outputs": [],
   "source": [
    "district.columns = ['d_w_id', 'd_id', 'd_name', 'd_street_1', 'd_street_2', 'd_city', 'd_state', 'd_zip', 'd_tax',\n",
    "                   'd_ytd', 'd_next_o_id']"
   ]
  },
  {
   "cell_type": "code",
   "execution_count": 7,
   "metadata": {},
   "outputs": [
    {
     "data": {
      "text/plain": [
       "d_w_id         False\n",
       "d_id           False\n",
       "d_name         False\n",
       "d_street_1     False\n",
       "d_street_2     False\n",
       "d_city         False\n",
       "d_state        False\n",
       "d_zip          False\n",
       "d_tax          False\n",
       "d_ytd          False\n",
       "d_next_o_id    False\n",
       "dtype: bool"
      ]
     },
     "execution_count": 7,
     "metadata": {},
     "output_type": "execute_result"
    }
   ],
   "source": [
    "district.isna().any()"
   ]
  },
  {
   "cell_type": "code",
   "execution_count": null,
   "metadata": {},
   "outputs": [],
   "source": []
  },
  {
   "cell_type": "code",
   "execution_count": 31,
   "metadata": {},
   "outputs": [],
   "source": [
    "customer = pd.read_csv('customer.csv', header=None)"
   ]
  },
  {
   "cell_type": "code",
   "execution_count": 32,
   "metadata": {},
   "outputs": [],
   "source": [
    "customer.columns = ['c_w_id', 'c_d_id', 'c_id', 'c_first', 'c_middle', 'c_last', 'c_street_1', 'c_street_2', 'c_city',\n",
    "                   'c_state', 'c_zip', 'c_phone', 'c_since', 'c_credit', 'c_credit_lim', 'c_discount', 'c_balance', \n",
    "                   'c_ytd_payment', 'c_payment_cnt', 'c_delivery_cnt', 'c_data']"
   ]
  },
  {
   "cell_type": "code",
   "execution_count": 33,
   "metadata": {},
   "outputs": [
    {
     "data": {
      "text/plain": [
       "c_w_id            False\n",
       "c_d_id            False\n",
       "c_id              False\n",
       "c_first           False\n",
       "c_middle          False\n",
       "c_last            False\n",
       "c_street_1        False\n",
       "c_street_2        False\n",
       "c_city            False\n",
       "c_state            True\n",
       "c_zip             False\n",
       "c_phone           False\n",
       "c_since           False\n",
       "c_credit          False\n",
       "c_credit_lim      False\n",
       "c_discount        False\n",
       "c_balance         False\n",
       "c_ytd_payment     False\n",
       "c_payment_cnt     False\n",
       "c_delivery_cnt    False\n",
       "c_data            False\n",
       "dtype: bool"
      ]
     },
     "execution_count": 33,
     "metadata": {},
     "output_type": "execute_result"
    }
   ],
   "source": [
    "customer.isna().any()"
   ]
  },
  {
   "cell_type": "code",
   "execution_count": 34,
   "metadata": {},
   "outputs": [],
   "source": [
    "customer['c_state'] = customer['c_state'].fillna('unknown')"
   ]
  },
  {
   "cell_type": "code",
   "execution_count": null,
   "metadata": {},
   "outputs": [],
   "source": []
  },
  {
   "cell_type": "code",
   "execution_count": 35,
   "metadata": {},
   "outputs": [],
   "source": [
    "orders = pd.read_csv('order.csv', header=None)"
   ]
  },
  {
   "cell_type": "code",
   "execution_count": 36,
   "metadata": {},
   "outputs": [],
   "source": [
    "orders.columns = ['o_w_id', 'o_d_id', 'o_id', 'o_c_id', 'o_carrier_id', 'o_ol_cnt', 'o_all_local', 'o_entry_d']"
   ]
  },
  {
   "cell_type": "code",
   "execution_count": 37,
   "metadata": {},
   "outputs": [
    {
     "data": {
      "text/plain": [
       "o_w_id          False\n",
       "o_d_id          False\n",
       "o_id            False\n",
       "o_c_id          False\n",
       "o_carrier_id     True\n",
       "o_ol_cnt        False\n",
       "o_all_local     False\n",
       "o_entry_d       False\n",
       "dtype: bool"
      ]
     },
     "execution_count": 37,
     "metadata": {},
     "output_type": "execute_result"
    }
   ],
   "source": [
    "orders.isna().any()"
   ]
  },
  {
   "cell_type": "code",
   "execution_count": 39,
   "metadata": {},
   "outputs": [],
   "source": [
    "orders['o_carrier_id'] = orders['o_carrier_id'].fillna(-1)"
   ]
  },
  {
   "cell_type": "code",
   "execution_count": 40,
   "metadata": {},
   "outputs": [],
   "source": [
    "item = pd.read_csv('item.csv', header=None)"
   ]
  },
  {
   "cell_type": "code",
   "execution_count": 41,
   "metadata": {},
   "outputs": [],
   "source": [
    "item.columns = ['i_id', 'i_name', 'i_price', 'i_im_id', 'i_data']"
   ]
  },
  {
   "cell_type": "code",
   "execution_count": 42,
   "metadata": {},
   "outputs": [
    {
     "data": {
      "text/plain": [
       "i_id       False\n",
       "i_name     False\n",
       "i_price    False\n",
       "i_im_id    False\n",
       "i_data     False\n",
       "dtype: bool"
      ]
     },
     "execution_count": 42,
     "metadata": {},
     "output_type": "execute_result"
    }
   ],
   "source": [
    "item.isna().any()"
   ]
  },
  {
   "cell_type": "code",
   "execution_count": null,
   "metadata": {},
   "outputs": [],
   "source": []
  },
  {
   "cell_type": "code",
   "execution_count": 43,
   "metadata": {},
   "outputs": [],
   "source": [
    "order_line = pd.read_csv('order-line.csv', header=None)"
   ]
  },
  {
   "cell_type": "code",
   "execution_count": 44,
   "metadata": {},
   "outputs": [],
   "source": [
    "order_line.columns = ['ol_w_id', 'ol_d_id', 'ol_o_id', 'ol_number', 'ol_i_id', 'ol_delivery_d', 'ol_amount', 'ol_supply_w_id',\n",
    "                     'ol_quantity', 'ol_dist_info']"
   ]
  },
  {
   "cell_type": "code",
   "execution_count": 45,
   "metadata": {},
   "outputs": [
    {
     "data": {
      "text/plain": [
       "ol_w_id           False\n",
       "ol_d_id           False\n",
       "ol_o_id           False\n",
       "ol_number         False\n",
       "ol_i_id           False\n",
       "ol_delivery_d      True\n",
       "ol_amount         False\n",
       "ol_supply_w_id    False\n",
       "ol_quantity       False\n",
       "ol_dist_info      False\n",
       "dtype: bool"
      ]
     },
     "execution_count": 45,
     "metadata": {},
     "output_type": "execute_result"
    }
   ],
   "source": [
    "order_line.isna().any()"
   ]
  },
  {
   "cell_type": "code",
   "execution_count": 46,
   "metadata": {},
   "outputs": [
    {
     "data": {
      "text/html": [
       "<div>\n",
       "<style scoped>\n",
       "    .dataframe tbody tr th:only-of-type {\n",
       "        vertical-align: middle;\n",
       "    }\n",
       "\n",
       "    .dataframe tbody tr th {\n",
       "        vertical-align: top;\n",
       "    }\n",
       "\n",
       "    .dataframe thead th {\n",
       "        text-align: right;\n",
       "    }\n",
       "</style>\n",
       "<table border=\"1\" class=\"dataframe\">\n",
       "  <thead>\n",
       "    <tr style=\"text-align: right;\">\n",
       "      <th></th>\n",
       "      <th>ol_w_id</th>\n",
       "      <th>ol_d_id</th>\n",
       "      <th>ol_o_id</th>\n",
       "      <th>ol_number</th>\n",
       "      <th>ol_i_id</th>\n",
       "      <th>ol_delivery_d</th>\n",
       "      <th>ol_amount</th>\n",
       "      <th>ol_supply_w_id</th>\n",
       "      <th>ol_quantity</th>\n",
       "      <th>ol_dist_info</th>\n",
       "    </tr>\n",
       "  </thead>\n",
       "  <tbody>\n",
       "    <tr>\n",
       "      <th>0</th>\n",
       "      <td>1</td>\n",
       "      <td>1</td>\n",
       "      <td>1</td>\n",
       "      <td>1</td>\n",
       "      <td>20822</td>\n",
       "      <td>2021-08-27 09:50:32.527</td>\n",
       "      <td>0.00</td>\n",
       "      <td>1</td>\n",
       "      <td>5</td>\n",
       "      <td>fjuwillmmaqaqzbqesyifas</td>\n",
       "    </tr>\n",
       "    <tr>\n",
       "      <th>1</th>\n",
       "      <td>1</td>\n",
       "      <td>1</td>\n",
       "      <td>1</td>\n",
       "      <td>2</td>\n",
       "      <td>62266</td>\n",
       "      <td>2021-08-27 09:50:32.527</td>\n",
       "      <td>0.00</td>\n",
       "      <td>1</td>\n",
       "      <td>5</td>\n",
       "      <td>bbooaqpuuddhkyqephoaszo</td>\n",
       "    </tr>\n",
       "    <tr>\n",
       "      <th>2</th>\n",
       "      <td>1</td>\n",
       "      <td>1</td>\n",
       "      <td>1</td>\n",
       "      <td>3</td>\n",
       "      <td>47297</td>\n",
       "      <td>2021-08-27 09:50:32.527</td>\n",
       "      <td>0.00</td>\n",
       "      <td>1</td>\n",
       "      <td>5</td>\n",
       "      <td>zfzmqutfxfvqpldlsjqbivz</td>\n",
       "    </tr>\n",
       "    <tr>\n",
       "      <th>3</th>\n",
       "      <td>1</td>\n",
       "      <td>1</td>\n",
       "      <td>1</td>\n",
       "      <td>4</td>\n",
       "      <td>61218</td>\n",
       "      <td>2021-08-27 09:50:32.527</td>\n",
       "      <td>0.00</td>\n",
       "      <td>1</td>\n",
       "      <td>5</td>\n",
       "      <td>ochisuyvhtrtocfyifwyydd</td>\n",
       "    </tr>\n",
       "    <tr>\n",
       "      <th>4</th>\n",
       "      <td>1</td>\n",
       "      <td>1</td>\n",
       "      <td>1</td>\n",
       "      <td>5</td>\n",
       "      <td>57008</td>\n",
       "      <td>2021-08-27 09:50:32.527</td>\n",
       "      <td>0.00</td>\n",
       "      <td>1</td>\n",
       "      <td>5</td>\n",
       "      <td>gfchgbullzaliifvmkueqgw</td>\n",
       "    </tr>\n",
       "    <tr>\n",
       "      <th>...</th>\n",
       "      <td>...</td>\n",
       "      <td>...</td>\n",
       "      <td>...</td>\n",
       "      <td>...</td>\n",
       "      <td>...</td>\n",
       "      <td>...</td>\n",
       "      <td>...</td>\n",
       "      <td>...</td>\n",
       "      <td>...</td>\n",
       "      <td>...</td>\n",
       "    </tr>\n",
       "    <tr>\n",
       "      <th>3748844</th>\n",
       "      <td>10</td>\n",
       "      <td>10</td>\n",
       "      <td>3000</td>\n",
       "      <td>15</td>\n",
       "      <td>58777</td>\n",
       "      <td>NaN</td>\n",
       "      <td>5295.01</td>\n",
       "      <td>10</td>\n",
       "      <td>5</td>\n",
       "      <td>ygegziqpgynjkubufakampl</td>\n",
       "    </tr>\n",
       "    <tr>\n",
       "      <th>3748845</th>\n",
       "      <td>10</td>\n",
       "      <td>10</td>\n",
       "      <td>3000</td>\n",
       "      <td>16</td>\n",
       "      <td>91714</td>\n",
       "      <td>NaN</td>\n",
       "      <td>7251.23</td>\n",
       "      <td>10</td>\n",
       "      <td>5</td>\n",
       "      <td>knzjapuugkjhpkbcgkonujc</td>\n",
       "    </tr>\n",
       "    <tr>\n",
       "      <th>3748846</th>\n",
       "      <td>10</td>\n",
       "      <td>10</td>\n",
       "      <td>3000</td>\n",
       "      <td>17</td>\n",
       "      <td>43811</td>\n",
       "      <td>NaN</td>\n",
       "      <td>2327.84</td>\n",
       "      <td>10</td>\n",
       "      <td>5</td>\n",
       "      <td>qrgnecokgbyqxjutulssekx</td>\n",
       "    </tr>\n",
       "    <tr>\n",
       "      <th>3748847</th>\n",
       "      <td>10</td>\n",
       "      <td>10</td>\n",
       "      <td>3000</td>\n",
       "      <td>18</td>\n",
       "      <td>98169</td>\n",
       "      <td>NaN</td>\n",
       "      <td>2874.15</td>\n",
       "      <td>10</td>\n",
       "      <td>5</td>\n",
       "      <td>hfefxneahqjjhfzxkoxqjqp</td>\n",
       "    </tr>\n",
       "    <tr>\n",
       "      <th>3748848</th>\n",
       "      <td>10</td>\n",
       "      <td>10</td>\n",
       "      <td>3000</td>\n",
       "      <td>19</td>\n",
       "      <td>96498</td>\n",
       "      <td>NaN</td>\n",
       "      <td>5730.80</td>\n",
       "      <td>10</td>\n",
       "      <td>5</td>\n",
       "      <td>hytcvvkpsxyuzimaffbesvm</td>\n",
       "    </tr>\n",
       "  </tbody>\n",
       "</table>\n",
       "<p>3748849 rows × 10 columns</p>\n",
       "</div>"
      ],
      "text/plain": [
       "         ol_w_id  ol_d_id  ol_o_id  ol_number  ol_i_id  \\\n",
       "0              1        1        1          1    20822   \n",
       "1              1        1        1          2    62266   \n",
       "2              1        1        1          3    47297   \n",
       "3              1        1        1          4    61218   \n",
       "4              1        1        1          5    57008   \n",
       "...          ...      ...      ...        ...      ...   \n",
       "3748844       10       10     3000         15    58777   \n",
       "3748845       10       10     3000         16    91714   \n",
       "3748846       10       10     3000         17    43811   \n",
       "3748847       10       10     3000         18    98169   \n",
       "3748848       10       10     3000         19    96498   \n",
       "\n",
       "                   ol_delivery_d  ol_amount  ol_supply_w_id  ol_quantity  \\\n",
       "0        2021-08-27 09:50:32.527       0.00               1            5   \n",
       "1        2021-08-27 09:50:32.527       0.00               1            5   \n",
       "2        2021-08-27 09:50:32.527       0.00               1            5   \n",
       "3        2021-08-27 09:50:32.527       0.00               1            5   \n",
       "4        2021-08-27 09:50:32.527       0.00               1            5   \n",
       "...                          ...        ...             ...          ...   \n",
       "3748844                      NaN    5295.01              10            5   \n",
       "3748845                      NaN    7251.23              10            5   \n",
       "3748846                      NaN    2327.84              10            5   \n",
       "3748847                      NaN    2874.15              10            5   \n",
       "3748848                      NaN    5730.80              10            5   \n",
       "\n",
       "                    ol_dist_info  \n",
       "0        fjuwillmmaqaqzbqesyifas  \n",
       "1        bbooaqpuuddhkyqephoaszo  \n",
       "2        zfzmqutfxfvqpldlsjqbivz  \n",
       "3        ochisuyvhtrtocfyifwyydd  \n",
       "4        gfchgbullzaliifvmkueqgw  \n",
       "...                          ...  \n",
       "3748844  ygegziqpgynjkubufakampl  \n",
       "3748845  knzjapuugkjhpkbcgkonujc  \n",
       "3748846  qrgnecokgbyqxjutulssekx  \n",
       "3748847  hfefxneahqjjhfzxkoxqjqp  \n",
       "3748848  hytcvvkpsxyuzimaffbesvm  \n",
       "\n",
       "[3748849 rows x 10 columns]"
      ]
     },
     "execution_count": 46,
     "metadata": {},
     "output_type": "execute_result"
    }
   ],
   "source": [
    "order_line"
   ]
  },
  {
   "cell_type": "code",
   "execution_count": 47,
   "metadata": {},
   "outputs": [],
   "source": [
    "order_line['ol_delivery_d'] = order_line['ol_delivery_d'].fillna(pd.Timestamp(0))"
   ]
  },
  {
   "cell_type": "code",
   "execution_count": 48,
   "metadata": {},
   "outputs": [
    {
     "data": {
      "text/html": [
       "<div>\n",
       "<style scoped>\n",
       "    .dataframe tbody tr th:only-of-type {\n",
       "        vertical-align: middle;\n",
       "    }\n",
       "\n",
       "    .dataframe tbody tr th {\n",
       "        vertical-align: top;\n",
       "    }\n",
       "\n",
       "    .dataframe thead th {\n",
       "        text-align: right;\n",
       "    }\n",
       "</style>\n",
       "<table border=\"1\" class=\"dataframe\">\n",
       "  <thead>\n",
       "    <tr style=\"text-align: right;\">\n",
       "      <th></th>\n",
       "      <th>ol_w_id</th>\n",
       "      <th>ol_d_id</th>\n",
       "      <th>ol_o_id</th>\n",
       "      <th>ol_number</th>\n",
       "      <th>ol_i_id</th>\n",
       "      <th>ol_delivery_d</th>\n",
       "      <th>ol_amount</th>\n",
       "      <th>ol_supply_w_id</th>\n",
       "      <th>ol_quantity</th>\n",
       "      <th>ol_dist_info</th>\n",
       "    </tr>\n",
       "  </thead>\n",
       "  <tbody>\n",
       "    <tr>\n",
       "      <th>0</th>\n",
       "      <td>1</td>\n",
       "      <td>1</td>\n",
       "      <td>1</td>\n",
       "      <td>1</td>\n",
       "      <td>20822</td>\n",
       "      <td>2021-08-27 09:50:32.527</td>\n",
       "      <td>0.00</td>\n",
       "      <td>1</td>\n",
       "      <td>5</td>\n",
       "      <td>fjuwillmmaqaqzbqesyifas</td>\n",
       "    </tr>\n",
       "    <tr>\n",
       "      <th>1</th>\n",
       "      <td>1</td>\n",
       "      <td>1</td>\n",
       "      <td>1</td>\n",
       "      <td>2</td>\n",
       "      <td>62266</td>\n",
       "      <td>2021-08-27 09:50:32.527</td>\n",
       "      <td>0.00</td>\n",
       "      <td>1</td>\n",
       "      <td>5</td>\n",
       "      <td>bbooaqpuuddhkyqephoaszo</td>\n",
       "    </tr>\n",
       "    <tr>\n",
       "      <th>2</th>\n",
       "      <td>1</td>\n",
       "      <td>1</td>\n",
       "      <td>1</td>\n",
       "      <td>3</td>\n",
       "      <td>47297</td>\n",
       "      <td>2021-08-27 09:50:32.527</td>\n",
       "      <td>0.00</td>\n",
       "      <td>1</td>\n",
       "      <td>5</td>\n",
       "      <td>zfzmqutfxfvqpldlsjqbivz</td>\n",
       "    </tr>\n",
       "    <tr>\n",
       "      <th>3</th>\n",
       "      <td>1</td>\n",
       "      <td>1</td>\n",
       "      <td>1</td>\n",
       "      <td>4</td>\n",
       "      <td>61218</td>\n",
       "      <td>2021-08-27 09:50:32.527</td>\n",
       "      <td>0.00</td>\n",
       "      <td>1</td>\n",
       "      <td>5</td>\n",
       "      <td>ochisuyvhtrtocfyifwyydd</td>\n",
       "    </tr>\n",
       "    <tr>\n",
       "      <th>4</th>\n",
       "      <td>1</td>\n",
       "      <td>1</td>\n",
       "      <td>1</td>\n",
       "      <td>5</td>\n",
       "      <td>57008</td>\n",
       "      <td>2021-08-27 09:50:32.527</td>\n",
       "      <td>0.00</td>\n",
       "      <td>1</td>\n",
       "      <td>5</td>\n",
       "      <td>gfchgbullzaliifvmkueqgw</td>\n",
       "    </tr>\n",
       "    <tr>\n",
       "      <th>...</th>\n",
       "      <td>...</td>\n",
       "      <td>...</td>\n",
       "      <td>...</td>\n",
       "      <td>...</td>\n",
       "      <td>...</td>\n",
       "      <td>...</td>\n",
       "      <td>...</td>\n",
       "      <td>...</td>\n",
       "      <td>...</td>\n",
       "      <td>...</td>\n",
       "    </tr>\n",
       "    <tr>\n",
       "      <th>3748844</th>\n",
       "      <td>10</td>\n",
       "      <td>10</td>\n",
       "      <td>3000</td>\n",
       "      <td>15</td>\n",
       "      <td>58777</td>\n",
       "      <td>1970-01-01 00:00:00</td>\n",
       "      <td>5295.01</td>\n",
       "      <td>10</td>\n",
       "      <td>5</td>\n",
       "      <td>ygegziqpgynjkubufakampl</td>\n",
       "    </tr>\n",
       "    <tr>\n",
       "      <th>3748845</th>\n",
       "      <td>10</td>\n",
       "      <td>10</td>\n",
       "      <td>3000</td>\n",
       "      <td>16</td>\n",
       "      <td>91714</td>\n",
       "      <td>1970-01-01 00:00:00</td>\n",
       "      <td>7251.23</td>\n",
       "      <td>10</td>\n",
       "      <td>5</td>\n",
       "      <td>knzjapuugkjhpkbcgkonujc</td>\n",
       "    </tr>\n",
       "    <tr>\n",
       "      <th>3748846</th>\n",
       "      <td>10</td>\n",
       "      <td>10</td>\n",
       "      <td>3000</td>\n",
       "      <td>17</td>\n",
       "      <td>43811</td>\n",
       "      <td>1970-01-01 00:00:00</td>\n",
       "      <td>2327.84</td>\n",
       "      <td>10</td>\n",
       "      <td>5</td>\n",
       "      <td>qrgnecokgbyqxjutulssekx</td>\n",
       "    </tr>\n",
       "    <tr>\n",
       "      <th>3748847</th>\n",
       "      <td>10</td>\n",
       "      <td>10</td>\n",
       "      <td>3000</td>\n",
       "      <td>18</td>\n",
       "      <td>98169</td>\n",
       "      <td>1970-01-01 00:00:00</td>\n",
       "      <td>2874.15</td>\n",
       "      <td>10</td>\n",
       "      <td>5</td>\n",
       "      <td>hfefxneahqjjhfzxkoxqjqp</td>\n",
       "    </tr>\n",
       "    <tr>\n",
       "      <th>3748848</th>\n",
       "      <td>10</td>\n",
       "      <td>10</td>\n",
       "      <td>3000</td>\n",
       "      <td>19</td>\n",
       "      <td>96498</td>\n",
       "      <td>1970-01-01 00:00:00</td>\n",
       "      <td>5730.80</td>\n",
       "      <td>10</td>\n",
       "      <td>5</td>\n",
       "      <td>hytcvvkpsxyuzimaffbesvm</td>\n",
       "    </tr>\n",
       "  </tbody>\n",
       "</table>\n",
       "<p>3748849 rows × 10 columns</p>\n",
       "</div>"
      ],
      "text/plain": [
       "         ol_w_id  ol_d_id  ol_o_id  ol_number  ol_i_id  \\\n",
       "0              1        1        1          1    20822   \n",
       "1              1        1        1          2    62266   \n",
       "2              1        1        1          3    47297   \n",
       "3              1        1        1          4    61218   \n",
       "4              1        1        1          5    57008   \n",
       "...          ...      ...      ...        ...      ...   \n",
       "3748844       10       10     3000         15    58777   \n",
       "3748845       10       10     3000         16    91714   \n",
       "3748846       10       10     3000         17    43811   \n",
       "3748847       10       10     3000         18    98169   \n",
       "3748848       10       10     3000         19    96498   \n",
       "\n",
       "                   ol_delivery_d  ol_amount  ol_supply_w_id  ol_quantity  \\\n",
       "0        2021-08-27 09:50:32.527       0.00               1            5   \n",
       "1        2021-08-27 09:50:32.527       0.00               1            5   \n",
       "2        2021-08-27 09:50:32.527       0.00               1            5   \n",
       "3        2021-08-27 09:50:32.527       0.00               1            5   \n",
       "4        2021-08-27 09:50:32.527       0.00               1            5   \n",
       "...                          ...        ...             ...          ...   \n",
       "3748844      1970-01-01 00:00:00    5295.01              10            5   \n",
       "3748845      1970-01-01 00:00:00    7251.23              10            5   \n",
       "3748846      1970-01-01 00:00:00    2327.84              10            5   \n",
       "3748847      1970-01-01 00:00:00    2874.15              10            5   \n",
       "3748848      1970-01-01 00:00:00    5730.80              10            5   \n",
       "\n",
       "                    ol_dist_info  \n",
       "0        fjuwillmmaqaqzbqesyifas  \n",
       "1        bbooaqpuuddhkyqephoaszo  \n",
       "2        zfzmqutfxfvqpldlsjqbivz  \n",
       "3        ochisuyvhtrtocfyifwyydd  \n",
       "4        gfchgbullzaliifvmkueqgw  \n",
       "...                          ...  \n",
       "3748844  ygegziqpgynjkubufakampl  \n",
       "3748845  knzjapuugkjhpkbcgkonujc  \n",
       "3748846  qrgnecokgbyqxjutulssekx  \n",
       "3748847  hfefxneahqjjhfzxkoxqjqp  \n",
       "3748848  hytcvvkpsxyuzimaffbesvm  \n",
       "\n",
       "[3748849 rows x 10 columns]"
      ]
     },
     "execution_count": 48,
     "metadata": {},
     "output_type": "execute_result"
    }
   ],
   "source": [
    "order_line"
   ]
  },
  {
   "cell_type": "code",
   "execution_count": 49,
   "metadata": {},
   "outputs": [],
   "source": [
    "stock = pd.read_csv('stock.csv', header=None)"
   ]
  },
  {
   "cell_type": "code",
   "execution_count": 50,
   "metadata": {},
   "outputs": [],
   "source": [
    "stock.columns = ['s_w_id', 's_i_id', 's_quantity', 's_ytd', 's_order_cnt', 's_remote_cnt', 's_dist_01', 's_dist_02', 's_dist_03', 's_dist_04', 's_dist_05',\n",
    "                's_dist_06','s_dist_07', 's_dist_08', 's_dist_09', 's_dist_10', 's_data']"
   ]
  },
  {
   "cell_type": "code",
   "execution_count": 51,
   "metadata": {},
   "outputs": [
    {
     "data": {
      "text/plain": [
       "s_w_id          False\n",
       "s_i_id          False\n",
       "s_quantity      False\n",
       "s_ytd           False\n",
       "s_order_cnt     False\n",
       "s_remote_cnt    False\n",
       "s_dist_01       False\n",
       "s_dist_02       False\n",
       "s_dist_03       False\n",
       "s_dist_04       False\n",
       "s_dist_05       False\n",
       "s_dist_06       False\n",
       "s_dist_07       False\n",
       "s_dist_08       False\n",
       "s_dist_09       False\n",
       "s_dist_10       False\n",
       "s_data          False\n",
       "dtype: bool"
      ]
     },
     "execution_count": 51,
     "metadata": {},
     "output_type": "execute_result"
    }
   ],
   "source": [
    "stock.isna().any()"
   ]
  },
  {
   "cell_type": "code",
   "execution_count": 52,
   "metadata": {},
   "outputs": [],
   "source": [
    "warehouse.to_csv('warehouse.csv', index=False)"
   ]
  },
  {
   "cell_type": "code",
   "execution_count": 53,
   "metadata": {},
   "outputs": [],
   "source": [
    "district.to_csv('district.csv', index=False)"
   ]
  },
  {
   "cell_type": "code",
   "execution_count": 54,
   "metadata": {},
   "outputs": [],
   "source": [
    "customer.to_csv('customer.csv', index=False)"
   ]
  },
  {
   "cell_type": "code",
   "execution_count": 55,
   "metadata": {},
   "outputs": [],
   "source": [
    "orders.to_csv('order.csv', index=False)"
   ]
  },
  {
   "cell_type": "code",
   "execution_count": 56,
   "metadata": {},
   "outputs": [],
   "source": [
    "item.to_csv('item.csv', index=False)"
   ]
  },
  {
   "cell_type": "code",
   "execution_count": 57,
   "metadata": {},
   "outputs": [],
   "source": [
    "order_line.to_csv('order-line.csv', index=False)"
   ]
  },
  {
   "cell_type": "code",
   "execution_count": 58,
   "metadata": {},
   "outputs": [],
   "source": [
    "stock.to_csv('stock.csv', index=False)"
   ]
  },
  {
   "cell_type": "code",
   "execution_count": null,
   "metadata": {},
   "outputs": [],
   "source": []
  },
  {
   "cell_type": "code",
   "execution_count": null,
   "metadata": {},
   "outputs": [],
   "source": []
  }
 ],
 "metadata": {
  "kernelspec": {
   "display_name": "Python 3",
   "language": "python",
   "name": "python3"
  },
  "language_info": {
   "codemirror_mode": {
    "name": "ipython",
    "version": 3
   },
   "file_extension": ".py",
   "mimetype": "text/x-python",
   "name": "python",
   "nbconvert_exporter": "python",
   "pygments_lexer": "ipython3",
   "version": "3.8.2"
  }
 },
 "nbformat": 4,
 "nbformat_minor": 4
}
